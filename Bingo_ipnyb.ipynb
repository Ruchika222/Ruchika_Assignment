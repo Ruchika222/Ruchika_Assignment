{
  "cells": [
    {
      "cell_type": "markdown",
      "metadata": {
        "id": "view-in-github",
        "colab_type": "text"
      },
      "source": [
        "<a href=\"https://colab.research.google.com/github/Ruchika222/Ruchika_Assignment/blob/master/Bingo_ipnyb.ipynb\" target=\"_parent\"><img src=\"https://colab.research.google.com/assets/colab-badge.svg\" alt=\"Open In Colab\"/></a>"
      ]
    },
    {
      "cell_type": "code",
      "execution_count": null,
      "metadata": {
        "id": "AocxjVC8H0nb"
      },
      "outputs": [],
      "source": [
        "import pandas as pd\n",
        "import numpy as np\n",
        "import random       #random for generating random numbers\n",
        "from tabulate import tabulate\n",
        "from  fpdf import FPDF\n"
      ]
    },
    {
      "cell_type": "code",
      "execution_count": null,
      "metadata": {
        "id": "CGQlCjVQH0nc"
      },
      "outputs": [],
      "source": [
        "# n_cards = input(\"enter How many cards you want?\")\n",
        "m = int(input(\"enter how many rows?\"))\n",
        "n = int(input(\"enter how many columns?\"))\n",
        "\n",
        "\n",
        "# print(grid)\n",
        "\n",
        "\n",
        "#setting the number of rows and columns for data frame\n",
        "\n",
        "#defining the function for generating random numbers\n",
        "def generate_random_int():\n",
        "   return random.randint(1, 15)\n",
        "def generate_random_int2():\n",
        "   return random.randint(16, 30)\n",
        "def generate_random_int3():\n",
        "   return random.randint(31, 45)\n",
        "def generate_random_int4():\n",
        "   return random.randint(46,60)\n",
        "def generate_random_int5():\n",
        "   return random.randint(61,75)\n",
        "#creating a variable to store a random number in data frame\n",
        "df = pd.DataFrame([[generate_random_int(), generate_random_int2(), generate_random_int3(),generate_random_int4(),generate_random_int5()] for _ in range(int(n))])\n",
        "df.to_csv(\"inputs.csv\")\n",
        "# table = tabulate(df,tablefmt='grid')\n",
        "# print(type(table))\n",
        "\n",
        "\n",
        "\n",
        "\n",
        "\n",
        "\n",
        "\n",
        "# m = int(m)\n",
        "# n = int(n)\n",
        "# for i in range(m):\n",
        "#     for j in range(n):\n",
        "#         grid.append(np.random.rand(1, 15))\n",
        "#         # grid[1].append(np.random.rand(16,25))\n",
        "#     print(j)\n",
        "# # # table1 = tabulate(m,n)\n",
        "# # # print(table1)"
      ]
    },
    {
      "cell_type": "code",
      "execution_count": null,
      "metadata": {
        "id": "soLsTvadH0nc",
        "outputId": "1e7848fd-edd0-411a-cd8e-1699fdc2785f"
      },
      "outputs": [
        {
          "ename": "OSError",
          "evalue": "No wkhtmltopdf executable found: \"C:\\Program Files\\wkhtmltopdf\\bin\"\nIf this file exists please check that this process can read it or you can pass path to it manually in method call, check README. Otherwise please install wkhtmltopdf - https://github.com/JazzCore/python-pdfkit/wiki/Installing-wkhtmltopdf",
          "output_type": "error",
          "traceback": [
            "\u001b[1;31m---------------------------------------------------------------------------\u001b[0m",
            "\u001b[1;31mPermissionError\u001b[0m                           Traceback (most recent call last)",
            "File \u001b[1;32mc:\\Users\\hp\\anaconda3\\Lib\\site-packages\\pdfkit\\configuration.py:35\u001b[0m, in \u001b[0;36mConfiguration.__init__\u001b[1;34m(self, wkhtmltopdf, meta_tag_prefix, environ)\u001b[0m\n\u001b[0;32m     33\u001b[0m     \u001b[39mself\u001b[39m\u001b[39m.\u001b[39mwkhtmltopdf \u001b[39m=\u001b[39m lines[\u001b[39m0\u001b[39m]\u001b[39m.\u001b[39mstrip()\n\u001b[1;32m---> 35\u001b[0m \u001b[39mwith\u001b[39;00m \u001b[39mopen\u001b[39m(\u001b[39mself\u001b[39m\u001b[39m.\u001b[39mwkhtmltopdf) \u001b[39mas\u001b[39;00m f:\n\u001b[0;32m     36\u001b[0m     \u001b[39mpass\u001b[39;00m\n",
            "\u001b[1;31mPermissionError\u001b[0m: [Errno 13] Permission denied: 'C:\\\\Program Files\\\\wkhtmltopdf\\\\bin'",
            "\nDuring handling of the above exception, another exception occurred:\n",
            "\u001b[1;31mOSError\u001b[0m                                   Traceback (most recent call last)",
            "Cell \u001b[1;32mIn[25], line 3\u001b[0m\n\u001b[0;32m      1\u001b[0m df1 \u001b[39m=\u001b[39m pd\u001b[39m.\u001b[39mread_csv(\u001b[39m'\u001b[39m\u001b[39minputs.csv\u001b[39m\u001b[39m'\u001b[39m)\n\u001b[0;32m      2\u001b[0m html_table \u001b[39m=\u001b[39m df\u001b[39m.\u001b[39mto_html()\n\u001b[1;32m----> 3\u001b[0m pdfkit\u001b[39m.\u001b[39mconfiguration(wkhtmltopdf\u001b[39m=\u001b[39m\u001b[39m'\u001b[39m\u001b[39mC:\u001b[39m\u001b[39m\\\\\u001b[39;00m\u001b[39mProgram Files\u001b[39m\u001b[39m\\\\\u001b[39;00m\u001b[39mwkhtmltopdf\u001b[39m\u001b[39m\\\\\u001b[39;00m\u001b[39mbin\u001b[39m\u001b[39m'\u001b[39m)\n\u001b[0;32m      4\u001b[0m pdfkit\u001b[39m.\u001b[39mfrom_string(html_table,\u001b[39m\"\u001b[39m\u001b[39moutput_file.pdf\u001b[39m\u001b[39m\"\u001b[39m)\n\u001b[0;32m      5\u001b[0m \u001b[39mprint\u001b[39m(\u001b[39m\"\u001b[39m\u001b[39mpdf is saved\u001b[39m\u001b[39m\"\u001b[39m)\n",
            "File \u001b[1;32mc:\\Users\\hp\\anaconda3\\Lib\\site-packages\\pdfkit\\api.py:86\u001b[0m, in \u001b[0;36mconfiguration\u001b[1;34m(**kwargs)\u001b[0m\n\u001b[0;32m     78\u001b[0m \u001b[39mdef\u001b[39;00m \u001b[39mconfiguration\u001b[39m(\u001b[39m*\u001b[39m\u001b[39m*\u001b[39mkwargs):\n\u001b[0;32m     79\u001b[0m \u001b[39m    \u001b[39m\u001b[39m\"\"\"\u001b[39;00m\n\u001b[0;32m     80\u001b[0m \u001b[39m    Constructs and returns a :class:`Configuration` with given options\u001b[39;00m\n\u001b[0;32m     81\u001b[0m \n\u001b[0;32m     82\u001b[0m \u001b[39m    :param wkhtmltopdf: path to binary\u001b[39;00m\n\u001b[0;32m     83\u001b[0m \u001b[39m    :param meta_tag_prefix: the prefix for ``pdfkit`` specific meta tags\u001b[39;00m\n\u001b[0;32m     84\u001b[0m \u001b[39m    \"\"\"\u001b[39;00m\n\u001b[1;32m---> 86\u001b[0m     \u001b[39mreturn\u001b[39;00m Configuration(\u001b[39m*\u001b[39m\u001b[39m*\u001b[39mkwargs)\n",
            "File \u001b[1;32mc:\\Users\\hp\\anaconda3\\Lib\\site-packages\\pdfkit\\configuration.py:38\u001b[0m, in \u001b[0;36mConfiguration.__init__\u001b[1;34m(self, wkhtmltopdf, meta_tag_prefix, environ)\u001b[0m\n\u001b[0;32m     36\u001b[0m         \u001b[39mpass\u001b[39;00m\n\u001b[0;32m     37\u001b[0m \u001b[39mexcept\u001b[39;00m (\u001b[39mIOError\u001b[39;00m, \u001b[39mFileNotFoundError\u001b[39;00m) \u001b[39mas\u001b[39;00m e:\n\u001b[1;32m---> 38\u001b[0m     \u001b[39mraise\u001b[39;00m \u001b[39mIOError\u001b[39;00m(\u001b[39m'\u001b[39m\u001b[39mNo wkhtmltopdf executable found: \u001b[39m\u001b[39m\"\u001b[39m\u001b[39m%s\u001b[39;00m\u001b[39m\"\u001b[39m\u001b[39m\\n\u001b[39;00m\u001b[39m'\u001b[39m\n\u001b[0;32m     39\u001b[0m                   \u001b[39m'\u001b[39m\u001b[39mIf this file exists please check that this process can \u001b[39m\u001b[39m'\u001b[39m\n\u001b[0;32m     40\u001b[0m                   \u001b[39m'\u001b[39m\u001b[39mread it or you can pass path to it manually in method call, \u001b[39m\u001b[39m'\u001b[39m\n\u001b[0;32m     41\u001b[0m                   \u001b[39m'\u001b[39m\u001b[39mcheck README. Otherwise please install wkhtmltopdf - \u001b[39m\u001b[39m'\u001b[39m\n\u001b[0;32m     42\u001b[0m                   \u001b[39m'\u001b[39m\u001b[39mhttps://github.com/JazzCore/python-pdfkit/wiki/Installing-wkhtmltopdf\u001b[39m\u001b[39m'\u001b[39m \u001b[39m%\u001b[39m \u001b[39mself\u001b[39m\u001b[39m.\u001b[39mwkhtmltopdf)\n\u001b[0;32m     45\u001b[0m \u001b[39mself\u001b[39m\u001b[39m.\u001b[39menviron \u001b[39m=\u001b[39m environ\n\u001b[0;32m     47\u001b[0m \u001b[39mif\u001b[39;00m \u001b[39mnot\u001b[39;00m \u001b[39mself\u001b[39m\u001b[39m.\u001b[39menviron:\n",
            "\u001b[1;31mOSError\u001b[0m: No wkhtmltopdf executable found: \"C:\\Program Files\\wkhtmltopdf\\bin\"\nIf this file exists please check that this process can read it or you can pass path to it manually in method call, check README. Otherwise please install wkhtmltopdf - https://github.com/JazzCore/python-pdfkit/wiki/Installing-wkhtmltopdf"
          ]
        }
      ],
      "source": [
        "df1 = pd.read_csv('inputs.csv')\n",
        "html_table = df.to_html()\n",
        "pdfkit.configuration(wkhtmltopdf='C:\\\\Program Files\\\\wkhtmltopdf\\\\bin')\n",
        "pdfkit.from_string(html_table,\"output_file.pdf\")\n",
        "print(\"pdf is saved\")"
      ]
    },
    {
      "cell_type": "code",
      "execution_count": null,
      "metadata": {
        "id": "zaZIdjcGH0ne"
      },
      "outputs": [],
      "source": []
    },
    {
      "cell_type": "code",
      "execution_count": null,
      "metadata": {
        "id": "rhH003JdH0ne"
      },
      "outputs": [],
      "source": []
    },
    {
      "cell_type": "markdown",
      "metadata": {
        "id": "Q6e66358H0ne"
      },
      "source": []
    },
    {
      "cell_type": "code",
      "execution_count": null,
      "metadata": {
        "id": "iMAuyA6MH0nf"
      },
      "outputs": [],
      "source": []
    },
    {
      "cell_type": "code",
      "execution_count": null,
      "metadata": {
        "id": "-_91qVbfH0nf"
      },
      "outputs": [],
      "source": []
    },
    {
      "cell_type": "code",
      "execution_count": null,
      "metadata": {
        "id": "s9GwOK1SH0nf"
      },
      "outputs": [],
      "source": []
    },
    {
      "cell_type": "code",
      "execution_count": null,
      "metadata": {
        "id": "DriGiNpkH0nf"
      },
      "outputs": [],
      "source": []
    }
  ],
  "metadata": {
    "kernelspec": {
      "display_name": "base",
      "language": "python",
      "name": "python3"
    },
    "language_info": {
      "codemirror_mode": {
        "name": "ipython",
        "version": 3
      },
      "file_extension": ".py",
      "mimetype": "text/x-python",
      "name": "python",
      "nbconvert_exporter": "python",
      "pygments_lexer": "ipython3",
      "version": "3.11.4"
    },
    "orig_nbformat": 4,
    "colab": {
      "provenance": [],
      "include_colab_link": true
    }
  },
  "nbformat": 4,
  "nbformat_minor": 0
}